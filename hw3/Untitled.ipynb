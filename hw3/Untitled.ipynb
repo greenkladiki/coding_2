{
 "cells": [
  {
   "cell_type": "code",
   "execution_count": null,
   "metadata": {},
   "outputs": [],
   "source": [
    "import urllib.request\n",
    "import time\n",
    "import json\n",
    "import os\n",
    "import re\n",
    "import csv"
   ]
  },
  {
   "cell_type": "code",
   "execution_count": null,
   "metadata": {},
   "outputs": [],
   "source": [
    "def download_page():\n",
    "    try:\n",
    "        url = 'https://gg12.ru/'\n",
    "        user_agent = 'Mozilla/5.0 (Windows NT 6.1; Win64; x64)'\n",
    "        req = urllib.request.Request(url, headers={'User-Agent':user_agent})\n",
    "        page = urllib.request.urlopen(https://gg12.ru/category/stati/)\n",
    "        text = page.read().decode('utf-8')\n",
    "    except:\n",
    "        print('Error at', https://gg12.ru/category/stati/)\n",
    "\n",
    "    commonUrl = 'https://gg12.ru/54/category/stati/'\n",
    "    for i in range(1, 10, 5):\n",
    "        pageUrl = commonUrl + str(i)\n",
    "        download_page(pageUrl)\n",
    "        \n",
    "    return download_page\n",
    "'''\n",
    "типа здесь представиться мозилой\n",
    "скачать страницу\n",
    "запустить цикл чтобы перебрал пятизначные номера статьей\n",
    "заодно html-парсинг\n",
    "'''"
   ]
  },
  {
   "cell_type": "code",
   "execution_count": null,
   "metadata": {},
   "outputs": [],
   "source": [
    "def making_list(download_page)\n",
    "    a = list()\n",
    "    spisok = list.append(download_page)\n",
    "    for article in spisok:\n",
    "        with open(\"article.txt\", \"w\", encoding=\"utf-8\") as f:    \n",
    "        f.write(download_page)\n",
    "    return \n",
    "'''\n",
    "создать список статей \n",
    "записать статью в отдельный файл\n",
    "'''"
   ]
  },
  {
   "cell_type": "code",
   "execution_count": null,
   "metadata": {},
   "outputs": [],
   "source": [
    "def making_table ()\n",
    "    FILENAME = \"table.csv\"\n",
    "    table =  \n",
    "    header = 'path\\ttauthor\\theader\\tcreated\\tsphere\\ttopic\\tstyle\\taudience_age\\taudience_level\\taudience_size\\tsource\\tpublication\\tpubl_year\\tmedium\\tcountry\\tregion\\tlanguage\\n'\n",
    "    with open(FILENAME, \"w\", newline=\"\") as file:\n",
    "        writer = csv.writer(file)\n",
    "        writer.writerows(table)\n",
    "    return table\n",
    "'''\n",
    "создать csv-таблицу\n",
    "'''"
   ]
  }
 ],
 "metadata": {
  "kernelspec": {
   "display_name": "Python 3",
   "language": "python",
   "name": "python3"
  },
  "language_info": {
   "codemirror_mode": {
    "name": "ipython",
    "version": 3
   },
   "file_extension": ".py",
   "mimetype": "text/x-python",
   "name": "python",
   "nbconvert_exporter": "python",
   "pygments_lexer": "ipython3",
   "version": "3.6.5"
  }
 },
 "nbformat": 4,
 "nbformat_minor": 2
}
